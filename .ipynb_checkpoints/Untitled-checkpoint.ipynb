{
 "cells": [
  {
   "cell_type": "code",
   "execution_count": 8,
   "metadata": {},
   "outputs": [
    {
     "name": "stderr",
     "output_type": "stream",
     "text": [
      "[nltk_data] Downloading package punkt to /home/zehra/nltk_data...\n",
      "[nltk_data]   Package punkt is already up-to-date!\n"
     ]
    },
    {
     "name": "stdout",
     "output_type": "stream",
     "text": [
      "                                             Comment  Insult\n",
      "0  ne guzel, ne kaliteli, ne dogaldiniz...Ne gere...       1\n",
      "1  Kendını beyenmıs parayla sımarmıssın zengın ye...       1\n",
      "2  Gülse Birsel lütfen sen sadece bişeyler yaz.. ...       1\n",
      "3  Bir insan hic bir zaman mezheb dil nereden gel...       1\n",
      "4  Sana adam değil kadın demeleri lazım lan #####...       1\n"
     ]
    },
    {
     "data": {
      "text/plain": [
       "[('anneniz', 0.5712038278579712),\n",
       " ('hic', 0.5685398578643799),\n",
       " ('hayatlarını', 0.5541466474533081),\n",
       " ('köşeden', 0.5492545366287231),\n",
       " ('bakarken', 0.5277385115623474),\n",
       " ('demekl', 0.5239869356155396),\n",
       " ('biliyor', 0.5176061987876892),\n",
       " ('allahin', 0.5108333826065063),\n",
       " ('hakkıydı', 0.4999333322048187),\n",
       " ('gumbur', 0.4996156096458435)]"
      ]
     },
     "execution_count": 8,
     "metadata": {},
     "output_type": "execute_result"
    }
   ],
   "source": [
    "from gensim.models import Word2Vec, KeyedVectors\n",
    "import pandas as pd\n",
    "import nltk\n",
    "import string\n",
    "from nltk.stem.porter import PorterStemmer\n",
    "from nltk.corpus import stopwords\n",
    "nltk.download('punkt')\n",
    "\n",
    "comments = pd.read_csv('thesis_data.csv')\n",
    "stop_word_list = pd.read_csv('stopwords.csv')\n",
    "\n",
    "print(comments.head())\n",
    "\n",
    "new_comment = []\n",
    "\n",
    "for i in range (450):\n",
    "    comment = comments['Comment'][i]\n",
    "    comment = comment.split()\n",
    "    table = str.maketrans('','',string.punctuation)\n",
    "    comment = [c.translate(table).lower() for c in comment]\n",
    "    table2 = str.maketrans('', '', string.digits)\n",
    "    comment = [c.translate(table2) for c in comment]\n",
    "    ps = PorterStemmer()\n",
    "    comment = [ps.stem(piece) for piece in comment if not piece in set(stop_word_list['Word'])]\n",
    "    new_comment.append(comment)\n",
    "    \n",
    "\n",
    "model = Word2Vec(new_comment, min_count=1,size=32)\n",
    "model.wv.most_similar('kötü')\n"
   ]
  },
  {
   "cell_type": "code",
   "execution_count": 9,
   "metadata": {},
   "outputs": [
    {
     "name": "stderr",
     "output_type": "stream",
     "text": [
      "/home/zehra/anaconda3/lib/python3.7/site-packages/ipykernel_launcher.py:1: DeprecationWarning: Call to deprecated `__getitem__` (Method will be removed in 4.0.0, use self.wv.__getitem__() instead).\n",
      "  \"\"\"Entry point for launching an IPython kernel.\n"
     ]
    },
    {
     "data": {
      "text/plain": [
       "array([-0.01457446,  0.00120432,  0.00318027, -0.00226162, -0.00615726,\n",
       "       -0.0059574 ,  0.01175943,  0.01477952,  0.00280021,  0.01443519,\n",
       "       -0.01661636, -0.01586881,  0.00718765, -0.00996845,  0.01066012,\n",
       "        0.00602649, -0.00850195,  0.01282078,  0.00886304,  0.00413596,\n",
       "       -0.00522286,  0.00506766,  0.01312009, -0.00692308, -0.00481675,\n",
       "       -0.00206408,  0.00541586, -0.00808853,  0.01320437,  0.0011031 ,\n",
       "        0.01453237,  0.00156171], dtype=float32)"
      ]
     },
     "execution_count": 9,
     "metadata": {},
     "output_type": "execute_result"
    }
   ],
   "source": [
    "model['adam']"
   ]
  },
  {
   "cell_type": "code",
   "execution_count": 13,
   "metadata": {},
   "outputs": [
    {
     "name": "stderr",
     "output_type": "stream",
     "text": [
      "/home/zehra/anaconda3/lib/python3.7/site-packages/ipykernel_launcher.py:1: DeprecationWarning: Call to deprecated `__getitem__` (Method will be removed in 4.0.0, use self.wv.__getitem__() instead).\n",
      "  \"\"\"Entry point for launching an IPython kernel.\n"
     ]
    }
   ],
   "source": [
    "vec = model[\"adam\"] - model[\"erkek\"] + model[\"kadın\"]"
   ]
  },
  {
   "cell_type": "code",
   "execution_count": 14,
   "metadata": {},
   "outputs": [
    {
     "name": "stderr",
     "output_type": "stream",
     "text": [
      "/home/zehra/anaconda3/lib/python3.7/site-packages/ipykernel_launcher.py:1: DeprecationWarning: Call to deprecated `most_similar` (Method will be removed in 4.0.0, use self.wv.most_similar() instead).\n",
      "  \"\"\"Entry point for launching an IPython kernel.\n"
     ]
    },
    {
     "data": {
      "text/plain": [
       "[('ağızlı', 0.6117584109306335),\n",
       " ('koymuyorsunuz', 0.5992106199264526),\n",
       " ('kalacak', 0.5679948925971985),\n",
       " ('adam', 0.5668118000030518),\n",
       " ('tükürmek', 0.5522949695587158),\n",
       " ('kadın', 0.5462721586227417),\n",
       " ('morgan', 0.5204871296882629),\n",
       " ('esnasında', 0.513885498046875),\n",
       " ('kasetlerind', 0.4951411187648773),\n",
       " ('korkun', 0.492844820022583)]"
      ]
     },
     "execution_count": 14,
     "metadata": {},
     "output_type": "execute_result"
    }
   ],
   "source": [
    "model.most_similar([ vec ])"
   ]
  },
  {
   "cell_type": "code",
   "execution_count": null,
   "metadata": {},
   "outputs": [],
   "source": []
  }
 ],
 "metadata": {
  "kernelspec": {
   "display_name": "Python 3",
   "language": "python",
   "name": "python3"
  },
  "language_info": {
   "codemirror_mode": {
    "name": "ipython",
    "version": 3
   },
   "file_extension": ".py",
   "mimetype": "text/x-python",
   "name": "python",
   "nbconvert_exporter": "python",
   "pygments_lexer": "ipython3",
   "version": "3.7.3"
  }
 },
 "nbformat": 4,
 "nbformat_minor": 2
}
